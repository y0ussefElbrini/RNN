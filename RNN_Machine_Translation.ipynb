{
 "cells": [
  {
   "cell_type": "markdown",
   "metadata": {
    "id": "L2pukCDIb7yT"
   },
   "source": [
    "#Machine Translation\n",
    "In this notebook, we aim to convert English phrases to French using RNN on Deep Learning Neural Network"
   ]
  },
  {
   "cell_type": "markdown",
   "metadata": {
    "id": "yva_P1dHb6aH"
   },
   "source": [
    "#Introduction\n",
    "In this notebook, you will build a deep neural network that functions as part of an end-to-end machine translation pipeline. Your completed pipeline will accept English text as input and return the French translation."
   ]
  },
  {
   "cell_type": "code",
   "execution_count": null,
   "metadata": {
    "id": "1wmao4O0cnLS"
   },
   "outputs": [],
   "source": [
    "#Now importing modules\n",
    "import helper\n",
    "import numpy as np\n",
    "\n",
    "from keras.preprocessing.text import Tokenizer\n",
    "from keras.preprocessing.sequence import pad_sequences\n",
    "from keras.models import Model, Sequential\n",
    "from keras.layers import GRU, Input, Dense, TimeDistributed, Activation, RepeatVector, Bidirectional, Dropout, LSTM\n",
    "from keras.layers import Embedding\n",
    "from keras.optimizers import Adam\n",
    "from keras.losses import sparse_categorical_crossentropy"
   ]
  },
  {
   "cell_type": "code",
   "execution_count": null,
   "metadata": {
    "id": "X8aiTJTxdrPB"
   },
   "outputs": [],
   "source": [
    "import tensorflow as tf"
   ]
  },
  {
   "cell_type": "markdown",
   "metadata": {
    "id": "Aziw3H_Wcyll"
   },
   "source": [
    "#Load Data\n",
    "The small_vocab_en file contains English sentences with their French translations in the small_vocab_fr file. Load the English and French data from these files from running the cell below."
   ]
  },
  {
   "cell_type": "code",
   "execution_count": null,
   "metadata": {
    "id": "cboaEhaZcvm3"
   },
   "outputs": [],
   "source": [
    "english_path='https://raw.githubusercontent.com/projjal1/datasets/master/small_vocab_en.txt'\n",
    "french_path='https://raw.githubusercontent.com/projjal1/datasets/master/small_vocab_fr.txt'"
   ]
  },
  {
   "cell_type": "markdown",
   "metadata": {
    "id": "qnOhjwXI1VYO"
   },
   "source": [
    "Load the dataset and split file by lines"
   ]
  },
  {
   "cell_type": "code",
   "execution_count": null,
   "metadata": {
    "id": "7ozqkItv1Pd6"
   },
   "outputs": [],
   "source": [
    "import os\n",
    "\n",
    "def load_data(path):\n",
    "  input_file = os.path.join(path)\n",
    "  with open(input_file, \"r\") as f:\n",
    "    data = f.read()\n",
    "\n",
    "  return data.split('\\n')"
   ]
  },
  {
   "cell_type": "code",
   "execution_count": null,
   "metadata": {
    "colab": {
     "base_uri": "https://localhost:8080/"
    },
    "id": "C-jmqlMhdC0H",
    "outputId": "60cc4042-4563-47ae-f97c-e8ebf4d4c8b3"
   },
   "outputs": [
    {
     "name": "stdout",
     "output_type": "stream",
     "text": [
      "Downloading data from https://raw.githubusercontent.com/projjal1/datasets/master/small_vocab_en.txt\n",
      "9085266/9085266 [==============================] - 0s 0us/step\n",
      "Downloading data from https://raw.githubusercontent.com/projjal1/datasets/master/small_vocab_fr.txt\n",
      "10135741/10135741 [==============================] - 0s 0us/step\n"
     ]
    }
   ],
   "source": [
    "#Using helper to inport dataset\n",
    "english_data=tf.keras.utils.get_file('file1',english_path)\n",
    "french_data=tf.keras.utils.get_file('file2',french_path)"
   ]
  },
  {
   "cell_type": "code",
   "execution_count": null,
   "metadata": {
    "id": "crFQWCx2eLsv"
   },
   "outputs": [],
   "source": [
    "#Now loading data\n",
    "english_sentences=load_data(english_data)\n",
    "french_sentences=load_data(french_data)"
   ]
  },
  {
   "cell_type": "code",
   "execution_count": null,
   "metadata": {
    "colab": {
     "base_uri": "https://localhost:8080/"
    },
    "id": "9ssu_57rusXb",
    "outputId": "15b5adf2-6fbe-4a1a-dc60-debf52b46bf1"
   },
   "outputs": [
    {
     "data": {
      "text/plain": [
       "(137860, 137860)"
      ]
     },
     "execution_count": 7,
     "metadata": {},
     "output_type": "execute_result"
    }
   ],
   "source": [
    "len(french_sentences), len(english_sentences)"
   ]
  },
  {
   "cell_type": "markdown",
   "metadata": {
    "id": "hw60fkIXgCB4"
   },
   "source": [
    "#Analysis of Dataset\n",
    "Let us look at a few examples in the dataset of both language"
   ]
  },
  {
   "cell_type": "code",
   "execution_count": null,
   "metadata": {
    "colab": {
     "base_uri": "https://localhost:8080/"
    },
    "id": "9V_5yFcKgI-4",
    "outputId": "aa7c3441-20ab-474e-f3fd-2b27ab04107a"
   },
   "outputs": [
    {
     "name": "stdout",
     "output_type": "stream",
     "text": [
      "Sample : 0\n",
      "new jersey is sometimes quiet during autumn , and it is snowy in april .\n",
      "new jersey est parfois calme pendant l' automne , et il est neigeux en avril .\n",
      "--------------------------------------------------\n",
      "Sample : 1\n",
      "the united states is usually chilly during july , and it is usually freezing in november .\n",
      "les états-unis est généralement froid en juillet , et il gèle habituellement en novembre .\n",
      "--------------------------------------------------\n",
      "Sample : 2\n",
      "california is usually quiet during march , and it is usually hot in june .\n",
      "california est généralement calme en mars , et il est généralement chaud en juin .\n",
      "--------------------------------------------------\n"
     ]
    }
   ],
   "source": [
    "for i in range(3):\n",
    "  print('Sample :',i)\n",
    "  print(english_sentences[i])\n",
    "  print(french_sentences[i])\n",
    "  print('-'*50)"
   ]
  },
  {
   "cell_type": "markdown",
   "metadata": {
    "id": "4EV6ri_Shkff"
   },
   "source": [
    "#Convert to Vocabulary\n",
    "The complexity of the problem is determined by the complexity of the vocabulary. A more complex vocabulary is a more complex problem. Let's look at the complexity of the dataset we'll be working with."
   ]
  },
  {
   "cell_type": "code",
   "execution_count": null,
   "metadata": {
    "id": "_3fQhJ5J2E4D"
   },
   "outputs": [],
   "source": [
    "import collections"
   ]
  },
  {
   "cell_type": "code",
   "execution_count": null,
   "metadata": {
    "colab": {
     "base_uri": "https://localhost:8080/"
    },
    "id": "_U3gqv5WhOTy",
    "outputId": "42bd7195-696e-44d2-b86a-379b02017c7f"
   },
   "outputs": [
    {
     "name": "stdout",
     "output_type": "stream",
     "text": [
      "English Vocab: 227\n",
      "French Vocab: 355\n"
     ]
    }
   ],
   "source": [
    "english_words_counter = collections.Counter([word for sentence in english_sentences for word in sentence.split()])\n",
    "french_words_counter = collections.Counter([word for sentence in french_sentences for word in sentence.split()])\n",
    "\n",
    "print('English Vocab:',len(english_words_counter))\n",
    "print('French Vocab:',len(french_words_counter))"
   ]
  },
  {
   "cell_type": "markdown",
   "metadata": {
    "id": "lsl03eu-jW09"
   },
   "source": [
    "#Tokenize (IMPLEMENTATION)\n",
    "For a neural network to predict on text data, it first has to be turned into data it can understand. Text data like \"dog\" is a sequence of ASCII character encodings. Since a neural network is a series of multiplication and addition operations, the input data needs to be number(s).\n",
    "\n",
    "We can turn each character into a number or each word into a number. These are called character and word ids, respectively.\n",
    "- Character ids are used for character level models that generate text predictions for each character.\n",
    "- A word level model uses word ids that generate text predictions for each word. Word level models tend to learn better, since they are lower in complexity, so we'll use that.\n",
    "\n",
    "**TO_DO:** Turn each sentence into a sequence of words_ids using Keras's Tokenizer function. Use this function to tokenize english_sentences and french_sentences in the cell below."
   ]
  },
  {
   "cell_type": "code",
   "execution_count": null,
   "metadata": {
    "id": "cYLtZ0WmjTjD"
   },
   "outputs": [],
   "source": [
    "def tokenize(x):\n",
    "  ## TO_DO:\n",
    "  return tokenizer"
   ]
  },
  {
   "cell_type": "code",
   "execution_count": null,
   "metadata": {
    "colab": {
     "base_uri": "https://localhost:8080/"
    },
    "id": "lkhE2V5bjyg_",
    "outputId": "594f78c6-0405-4b2f-f4bd-99c2011bd080"
   },
   "outputs": [
    {
     "name": "stdout",
     "output_type": "stream",
     "text": [
      "{'the': 1, 'quick': 2, 'a': 3, 'brown': 4, 'fox': 5, 'jumps': 6, 'over': 7, 'lazy': 8, 'dog': 9, 'by': 10, 'jove': 11, 'my': 12, 'study': 13, 'of': 14, 'lexicography': 15, 'won': 16, 'prize': 17, 'this': 18, 'is': 19, 'short': 20, 'sentence': 21}\n",
      "Sequence 1 in x\n",
      "  Input:  The quick brown fox jumps over the lazy dog .\n",
      "  Output: [1, 2, 4, 5, 6, 7, 1, 8, 9]\n",
      "Sequence 2 in x\n",
      "  Input:  By Jove , my quick study of lexicography won a prize .\n",
      "  Output: [10, 11, 12, 2, 13, 14, 15, 16, 3, 17]\n",
      "Sequence 3 in x\n",
      "  Input:  This is a short sentence .\n",
      "  Output: [18, 19, 3, 20, 21]\n"
     ]
    }
   ],
   "source": [
    "# Tokenize Sample output\n",
    "text_sentences = [\n",
    "    'The quick brown fox jumps over the lazy dog .',\n",
    "    'By Jove , my quick study of lexicography won a prize .',\n",
    "    'This is a short sentence .']\n",
    "\n",
    "text_tokenizer = tokenize(text_sentences)\n",
    "print(text_tokenizer.word_index)\n",
    "text_tokenized = text_tokenizer.texts_to_sequences(text_sentences)\n",
    "\n",
    "for sample_i, (sent, token_sent) in enumerate(zip(text_sentences, text_tokenized)):\n",
    "  print('Sequence {} in x'.format(sample_i + 1))\n",
    "  print('  Input:  {}'.format(sent))\n",
    "  print('  Output: {}'.format(token_sent))"
   ]
  },
  {
   "cell_type": "markdown",
   "metadata": {
    "id": "cfiSCxQ7kRK3"
   },
   "source": [
    "#Padding (IMPLEMENTATION)\n",
    "When batching the sequence of word ids together, each sequence needs to be the same length. Since sentences are dynamic in length, we can add padding to the end of the sequences to make them the same length.\n",
    "\n",
    "Make sure all the English sequences have the same length and all the French sequences have the same length by adding padding to the end of each sequence using Keras's pad_sequences function."
   ]
  },
  {
   "cell_type": "code",
   "execution_count": null,
   "metadata": {
    "id": "6Daf_ngukNIS"
   },
   "outputs": [],
   "source": [
    "def pad(x, length=None):\n",
    "  ## TO_DO:\n",
    "  return text_padded"
   ]
  },
  {
   "cell_type": "code",
   "execution_count": null,
   "metadata": {
    "colab": {
     "base_uri": "https://localhost:8080/"
    },
    "id": "9LHAL30ik5x4",
    "outputId": "a35bddd5-ab85-44d0-a74c-20d965266c9d"
   },
   "outputs": [
    {
     "name": "stdout",
     "output_type": "stream",
     "text": [
      "Data Preprocessed.\n",
      "Max English sentence length: 15\n",
      "Max French sentence length: 21\n",
      "English vocabulary size: 199\n",
      "French vocabulary size: 344\n"
     ]
    }
   ],
   "source": [
    "def preprocess(x, y):\n",
    "    \"\"\"\n",
    "    Preprocess x and y\n",
    "    :param x: Feature List of sentences\n",
    "    :param y: Label List of sentences\n",
    "    :return: Tuple of (Preprocessed x, Preprocessed y, x tokenizer, y tokenizer)\n",
    "    \"\"\"\n",
    "    x_tk = tokenize(x)\n",
    "    preprocess_x = x_tk.texts_to_sequences(x)\n",
    "    y_tk = tokenize(y)\n",
    "    preprocess_y = y_tk.texts_to_sequences(y)\n",
    "\n",
    "    preprocess_x = pad(preprocess_x)\n",
    "    preprocess_y = pad(preprocess_y)\n",
    "\n",
    "    # Keras's sparse_categorical_crossentropy function requires the labels to be in 3 dimensions\n",
    "    #Expanding dimensions\n",
    "    preprocess_y = preprocess_y.reshape(*preprocess_y.shape, 1)\n",
    "\n",
    "    return preprocess_x, preprocess_y, x_tk, y_tk\n",
    "\n",
    "preproc_english_sentences, preproc_french_sentences, english_tokenizer, french_tokenizer =\\\n",
    "    preprocess(english_sentences, french_sentences)\n",
    "\n",
    "max_english_sequence_length = preproc_english_sentences.shape[1]\n",
    "max_french_sequence_length = preproc_french_sentences.shape[1]\n",
    "english_vocab_size = len(english_tokenizer.word_index)\n",
    "french_vocab_size = len(french_tokenizer.word_index)\n",
    "\n",
    "print('Data Preprocessed.')\n",
    "print(\"Max English sentence length:\", max_english_sequence_length)\n",
    "print(\"Max French sentence length:\", max_french_sequence_length)\n",
    "print(\"English vocabulary size:\", english_vocab_size)\n",
    "print(\"French vocabulary size:\", french_vocab_size)"
   ]
  },
  {
   "cell_type": "markdown",
   "metadata": {
    "id": "6n7i4rD_22_J"
   },
   "source": [
    "#Create Model\n",
    "\n"
   ]
  },
  {
   "cell_type": "markdown",
   "metadata": {
    "id": "TSLZv-O_3Bgq"
   },
   "source": [
    "The neural network will translate the input to words ids, which isn't the final form we want. We want the French translation. The function logits_to_text will bridge the gap between the logits from the neural network to the French translation. You'll be using this function to better understand the output of the neural network."
   ]
  },
  {
   "cell_type": "code",
   "execution_count": null,
   "metadata": {
    "id": "7BDBJKw22yJa"
   },
   "outputs": [],
   "source": [
    "def logits_to_text(logits, tokenizer):\n",
    "  index_to_words = {id: word for word, id in tokenizer.word_index.items()}\n",
    "  index_to_words[0] = '<PAD>'\n",
    "\n",
    "  #So basically we are predicting output for a given word and then selecting best answer\n",
    "  #Then selecting that label we reverse-enumerate the word from id\n",
    "  return ' '.join([index_to_words[prediction] for prediction in np.argmax(logits, 1)])"
   ]
  },
  {
   "cell_type": "markdown",
   "metadata": {
    "id": "Mbg5kGAY3cvT"
   },
   "source": [
    "![Model](https://github.com/tommytracey/AIND-Capstone/raw/8267d4fe72e48c595a0aff46eaf0a805fff0f36d/images/embedding.png)"
   ]
  },
  {
   "cell_type": "markdown",
   "metadata": {
    "id": "HN-RjzvH3rpp"
   },
   "source": [
    "#Building Model\n",
    "Here we use RNN model combined with GRU nodes for translation.\n",
    "In the code section below, we give a simple model example. You can first run this model and play with it. Then you can change the model architecture by following the Exercise 4 to get better results."
   ]
  },
  {
   "cell_type": "code",
   "execution_count": null,
   "metadata": {
    "id": "ta5yGpZ23amq"
   },
   "outputs": [],
   "source": [
    "def embed_model(input_shape, output_sequence_length, english_vocab_size, french_vocab_size):\n",
    "    \"\"\"\n",
    "    Build and train a RNN model using word embedding on x and y\n",
    "    :param input_shape: Tuple of input shape\n",
    "    :param output_sequence_length: Length of output sequence\n",
    "    :param english_vocab_size: Number of unique English words in the dataset\n",
    "    :param french_vocab_size: Number of unique French words in the dataset\n",
    "    :return: Keras model built, but not trained\n",
    "    \"\"\"\n",
    "\n",
    "    ## TO_DO: Improve the layers (See Exercise 4)\n",
    "    model = Sequential()\n",
    "    model.add(Embedding(english_vocab_size, 256, input_length=input_shape[1], input_shape=input_shape[1:]))\n",
    "    model.add(GRU(256, return_sequences=True))\n",
    "    model.add(TimeDistributed(Dense(1024, activation='relu')))\n",
    "    model.add(Dropout(0.5))\n",
    "    model.add(TimeDistributed(Dense(french_vocab_size, activation='softmax')))\n",
    "\n",
    "    return model"
   ]
  },
  {
   "cell_type": "code",
   "execution_count": null,
   "metadata": {
    "id": "ubkWXBpu32Jh"
   },
   "outputs": [],
   "source": [
    "# Reshaping the input to work with a basic RNN\n",
    "tmp_x = pad(preproc_english_sentences, preproc_french_sentences.shape[1])\n",
    "tmp_x = tmp_x.reshape((-1, preproc_french_sentences.shape[-2]))"
   ]
  },
  {
   "cell_type": "markdown",
   "metadata": {
    "id": "2NXsCzht3-1y"
   },
   "source": [
    "Finally calling the model function"
   ]
  },
  {
   "cell_type": "code",
   "execution_count": null,
   "metadata": {
    "id": "3M0rGoXg7yFI"
   },
   "outputs": [],
   "source": [
    "# Hyperparameters\n",
    "learning_rate = 0.005"
   ]
  },
  {
   "cell_type": "code",
   "execution_count": null,
   "metadata": {
    "id": "8B9QZgl738qJ"
   },
   "outputs": [],
   "source": [
    "simple_rnn_model = embed_model(\n",
    "    tmp_x.shape,\n",
    "    preproc_french_sentences.shape[1],\n",
    "    len(english_tokenizer.word_index)+1,\n",
    "    len(french_tokenizer.word_index)+1)"
   ]
  },
  {
   "cell_type": "markdown",
   "metadata": {
    "id": "WPWeYKzl8C9v"
   },
   "source": [
    "The output is a sequence of one-hot encoded arrays. Our data-set contains integer-tokens instead of one-hot encoded arrays. Each one-hot encoded array has large number of elements so it would be extremely wasteful to convert the entire data-set to one-hot encoded arrays. A better way is to use a so-called sparse cross-entropy loss-function, which does the conversion internally from integers to one-hot encoded arrays."
   ]
  },
  {
   "cell_type": "code",
   "execution_count": null,
   "metadata": {
    "id": "nZrlmuX-71VN"
   },
   "outputs": [],
   "source": [
    "# Compile model\n",
    "simple_rnn_model.compile(loss=sparse_categorical_crossentropy,\n",
    "                         optimizer=Adam(learning_rate),\n",
    "                         metrics=['accuracy'])"
   ]
  },
  {
   "cell_type": "code",
   "execution_count": null,
   "metadata": {
    "colab": {
     "base_uri": "https://localhost:8080/"
    },
    "id": "R-2dQpBQ4EZa",
    "outputId": "6df299f9-6400-4403-c4a3-32e71436f4b7"
   },
   "outputs": [
    {
     "name": "stdout",
     "output_type": "stream",
     "text": [
      "Model: \"sequential\"\n",
      "_________________________________________________________________\n",
      " Layer (type)                Output Shape              Param #   \n",
      "=================================================================\n",
      " embedding (Embedding)       (None, 21, 256)           51200     \n",
      "                                                                 \n",
      " gru (GRU)                   (None, 21, 256)           394752    \n",
      "                                                                 \n",
      " time_distributed (TimeDist  (None, 21, 1024)          263168    \n",
      " ributed)                                                        \n",
      "                                                                 \n",
      " dropout (Dropout)           (None, 21, 1024)          0         \n",
      "                                                                 \n",
      " time_distributed_1 (TimeDi  (None, 21, 345)           353625    \n",
      " stributed)                                                      \n",
      "                                                                 \n",
      "=================================================================\n",
      "Total params: 1062745 (4.05 MB)\n",
      "Trainable params: 1062745 (4.05 MB)\n",
      "Non-trainable params: 0 (0.00 Byte)\n",
      "_________________________________________________________________\n"
     ]
    }
   ],
   "source": [
    "simple_rnn_model.summary()"
   ]
  },
  {
   "cell_type": "markdown",
   "metadata": {
    "id": "tMDG7ttA4JGS"
   },
   "source": [
    "#Training the model\n",
    "Here we start to train the model and pass the english text and the max_sequence_length, with vocab size for both english and french text"
   ]
  },
  {
   "cell_type": "code",
   "execution_count": null,
   "metadata": {
    "colab": {
     "base_uri": "https://localhost:8080/"
    },
    "id": "fY7037yU4HCp",
    "outputId": "4d34765f-f925-4873-9857-89b95c8c52fc"
   },
   "outputs": [
    {
     "name": "stdout",
     "output_type": "stream",
     "text": [
      "Epoch 1/10\n",
      "108/108 [==============================] - 12s 48ms/step - loss: 1.3575 - accuracy: 0.6836 - val_loss: 0.4863 - val_accuracy: 0.8438\n",
      "Epoch 2/10\n",
      "108/108 [==============================] - 3s 24ms/step - loss: 0.4070 - accuracy: 0.8676 - val_loss: 0.3046 - val_accuracy: 0.8980\n",
      "Epoch 3/10\n",
      "108/108 [==============================] - 2s 23ms/step - loss: 0.2901 - accuracy: 0.9030 - val_loss: 0.2448 - val_accuracy: 0.9166\n",
      "Epoch 4/10\n",
      "108/108 [==============================] - 3s 24ms/step - loss: 0.2411 - accuracy: 0.9181 - val_loss: 0.2240 - val_accuracy: 0.9240\n",
      "Epoch 5/10\n",
      "108/108 [==============================] - 2s 23ms/step - loss: 0.2187 - accuracy: 0.9249 - val_loss: 0.2001 - val_accuracy: 0.9312\n",
      "Epoch 6/10\n",
      "108/108 [==============================] - 2s 22ms/step - loss: 0.2047 - accuracy: 0.9292 - val_loss: 0.1933 - val_accuracy: 0.9318\n",
      "Epoch 7/10\n",
      "108/108 [==============================] - 3s 23ms/step - loss: 0.1953 - accuracy: 0.9316 - val_loss: 0.1895 - val_accuracy: 0.9343\n",
      "Epoch 8/10\n",
      "108/108 [==============================] - 2s 22ms/step - loss: 0.1883 - accuracy: 0.9335 - val_loss: 0.1856 - val_accuracy: 0.9353\n",
      "Epoch 9/10\n",
      "108/108 [==============================] - 3s 27ms/step - loss: 0.1846 - accuracy: 0.9345 - val_loss: 0.1819 - val_accuracy: 0.9367\n",
      "Epoch 10/10\n",
      "108/108 [==============================] - 3s 26ms/step - loss: 0.1782 - accuracy: 0.9362 - val_loss: 0.1811 - val_accuracy: 0.9362\n"
     ]
    }
   ],
   "source": [
    "history=simple_rnn_model.fit(tmp_x, preproc_french_sentences, batch_size=1024, epochs=10, validation_split=0.2)"
   ]
  },
  {
   "cell_type": "markdown",
   "metadata": {
    "id": "Lg0KtRlXBHPE"
   },
   "source": [
    "#Arbitrary Predictions\n",
    "\n",
    "Try with arbitary examples in the corpus to see the translation"
   ]
  },
  {
   "cell_type": "code",
   "execution_count": null,
   "metadata": {
    "id": "ys8_8FhABNfx"
   },
   "outputs": [],
   "source": [
    "import re\n",
    "def final_predictions(text):\n",
    "  y_id_to_word = {value: key for key, value in french_tokenizer.word_index.items()}\n",
    "  y_id_to_word[0] = '<PAD>'\n",
    "\n",
    "  sentence = [english_tokenizer.word_index[word] for word in text.split()]\n",
    "  sentence = pad_sequences([sentence], maxlen=preproc_french_sentences.shape[-2], padding='post')\n",
    "  french_translation = logits_to_text(simple_rnn_model.predict(sentence[:1], verbose=0)[0], french_tokenizer)\n",
    "  return re.split(r\"\\s*<PAD>\", french_translation, 1)[0]"
   ]
  },
  {
   "cell_type": "code",
   "execution_count": null,
   "metadata": {
    "colab": {
     "base_uri": "https://localhost:8080/"
    },
    "id": "pJp2gkLYE0zZ",
    "outputId": "05692bb0-1784-44e6-a8d6-c46061cd3cbc"
   },
   "outputs": [
    {
     "name": "stdout",
     "output_type": "stream",
     "text": [
      "English:  new jersey is sometimes quiet during autumn , and it is snowy in april .\n",
      "French:  new jersey est parfois calme en l' automne et il est neigeux en avril\n"
     ]
    }
   ],
   "source": [
    "txt = english_sentences[0].lower()\n",
    "print('English: ', english_sentences[0])\n",
    "print('French: ', final_predictions(re.sub(r'[^\\w]', ' ', txt)))"
   ]
  },
  {
   "cell_type": "markdown",
   "metadata": {
    "id": "YCnczDOTwy8g"
   },
   "source": [
    "# Evaluation\n",
    "\n",
    "In this section, we provide the example code for you to do the evaluation using BLEU score metrics."
   ]
  },
  {
   "cell_type": "code",
   "execution_count": null,
   "metadata": {
    "id": "-tw6EtMsw1Oo"
   },
   "outputs": [],
   "source": [
    "# useful tokenization\n",
    "import re\n",
    "from functools import lru_cache\n",
    "\n",
    "\n",
    "class BaseTokenizer:\n",
    "    \"\"\"A base dummy tokenizer to derive from.\"\"\"\n",
    "\n",
    "    def signature(self):\n",
    "        \"\"\"\n",
    "        Returns a signature for the tokenizer.\n",
    "        :return: signature string\n",
    "        \"\"\"\n",
    "        return \"none\"\n",
    "\n",
    "    def __call__(self, line):\n",
    "        \"\"\"\n",
    "        Tokenizes an input line with the tokenizer.\n",
    "        :param line: a segment to tokenize\n",
    "        :return: the tokenized line\n",
    "        \"\"\"\n",
    "        return line\n",
    "\n",
    "\n",
    "class TokenizerRegexp(BaseTokenizer):\n",
    "    def signature(self):\n",
    "        return \"re\"\n",
    "\n",
    "    def __init__(self):\n",
    "        self._re = [\n",
    "            # language-dependent part (assuming Western languages)\n",
    "            (re.compile(r\"([\\{-\\~\\[-\\` -\\&\\(-\\+\\:-\\@\\/])\"), r\" \\1 \"),\n",
    "            # tokenize period and comma unless preceded by a digit\n",
    "            (re.compile(r\"([^0-9])([\\.,])\"), r\"\\1 \\2 \"),\n",
    "            # tokenize period and comma unless followed by a digit\n",
    "            (re.compile(r\"([\\.,])([^0-9])\"), r\" \\1 \\2\"),\n",
    "            # tokenize dash when preceded by a digit\n",
    "            (re.compile(r\"([0-9])(-)\"), r\"\\1 \\2 \"),\n",
    "            # one space only between words\n",
    "            # NOTE: Doing this in Python (below) is faster\n",
    "            # (re.compile(r'\\s+'), r' '),\n",
    "        ]\n",
    "\n",
    "    @lru_cache(maxsize=2**16)\n",
    "    def __call__(self, line):\n",
    "        \"\"\"Common post-processing tokenizer for `13a` and `zh` tokenizers.\n",
    "        :param line: a segment to tokenize\n",
    "        :return: the tokenized line\n",
    "        \"\"\"\n",
    "        for (_re, repl) in self._re:\n",
    "            line = _re.sub(repl, line)\n",
    "\n",
    "        # no leading or trailing spaces, single space within words\n",
    "        # return ' '.join(line.split())\n",
    "        # This line is changed with regards to the original tokenizer (seen above) to return individual words\n",
    "        return line.split()\n",
    "\n",
    "\n",
    "class Tokenizer13a(BaseTokenizer):\n",
    "    def signature(self):\n",
    "        return \"13a\"\n",
    "\n",
    "    def __init__(self):\n",
    "        self._post_tokenizer = TokenizerRegexp()\n",
    "\n",
    "    @lru_cache(maxsize=2**16)\n",
    "    def __call__(self, line):\n",
    "        \"\"\"Tokenizes an input line using a relatively minimal tokenization\n",
    "        that is however equivalent to mteval-v13a, used by WMT.\n",
    "\n",
    "        :param line: a segment to tokenize\n",
    "        :return: the tokenized line\n",
    "        \"\"\"\n",
    "\n",
    "        # language-independent part:\n",
    "        line = line.replace(\"<skipped>\", \"\")\n",
    "        line = line.replace(\"-\\n\", \"\")\n",
    "        line = line.replace(\"\\n\", \" \")\n",
    "\n",
    "        if \"&\" in line:\n",
    "            line = line.replace(\"&quot;\", '\"')\n",
    "            line = line.replace(\"&amp;\", \"&\")\n",
    "            line = line.replace(\"&lt;\", \"<\")\n",
    "            line = line.replace(\"&gt;\", \">\")\n",
    "\n",
    "        return self._post_tokenizer(f\" {line} \")"
   ]
  },
  {
   "cell_type": "code",
   "execution_count": null,
   "metadata": {
    "id": "jCgY6DRtw1RL"
   },
   "outputs": [],
   "source": [
    "import collections\n",
    "import math\n",
    "\n",
    "\n",
    "def get_ngrams(segment, max_order):\n",
    "  \"\"\"Extracts all n-grams upto a given maximum order from an input segment.\n",
    "\n",
    "  Args:\n",
    "    segment: text segment from which n-grams will be extracted.\n",
    "    max_order: maximum length in tokens of the n-grams returned by this\n",
    "        methods.\n",
    "\n",
    "  Returns:\n",
    "    The Counter containing all n-grams upto max_order in segment\n",
    "    with a count of how many times each n-gram occurred.\n",
    "  \"\"\"\n",
    "  ngram_counts = collections.Counter()\n",
    "  for order in range(1, max_order + 1):\n",
    "    for i in range(0, len(segment) - order + 1):\n",
    "      ngram = tuple(segment[i:i+order])\n",
    "      ngram_counts[ngram] += 1\n",
    "  return ngram_counts\n",
    "\n",
    "\n",
    "def compute_bleu(reference_corpus, translation_corpus, max_order=4):\n",
    "  \"\"\"Computes BLEU score of translated segments against one or more references.\n",
    "\n",
    "  Args:\n",
    "    reference_corpus: list of lists of references for each translation. Each\n",
    "        reference should be tokenized into a list of tokens.\n",
    "    translation_corpus: list of translations to score. Each translation\n",
    "        should be tokenized into a list of tokens.\n",
    "    max_order: Maximum n-gram order to use when computing BLEU score.\n",
    "\n",
    "  Returns:\n",
    "    3-Tuple with the BLEU score, n-gram precisions, geometric mean of n-gram\n",
    "    precisions and brevity penalty.\n",
    "  \"\"\"\n",
    "  matches_by_order = [0] * max_order\n",
    "  possible_matches_by_order = [0] * max_order\n",
    "  reference_length = 0\n",
    "  translation_length = 0\n",
    "  for (references, translation) in zip(reference_corpus,\n",
    "                                       translation_corpus):\n",
    "    reference_length += min(len(r) for r in references)\n",
    "    translation_length += len(translation)\n",
    "\n",
    "    merged_ref_ngram_counts = collections.Counter()\n",
    "    for reference in references:\n",
    "      merged_ref_ngram_counts |= get_ngrams(reference, max_order)\n",
    "    translation_ngram_counts = get_ngrams(translation, max_order)\n",
    "    overlap = translation_ngram_counts & merged_ref_ngram_counts\n",
    "    for ngram in overlap:\n",
    "      matches_by_order[len(ngram)-1] += overlap[ngram]\n",
    "    for order in range(1, max_order+1):\n",
    "      possible_matches = len(translation) - order + 1\n",
    "      if possible_matches > 0:\n",
    "        possible_matches_by_order[order-1] += possible_matches\n",
    "\n",
    "  precisions = [0] * max_order\n",
    "  for i in range(0, max_order):\n",
    "      if possible_matches_by_order[i] > 0:\n",
    "        precisions[i] = (float(matches_by_order[i]) /\n",
    "                         possible_matches_by_order[i])\n",
    "      else:\n",
    "        precisions[i] = 0.0\n",
    "\n",
    "  if min(precisions) > 0:\n",
    "    ## TO_DO: compute the geometric mean of all modified precision scores\n",
    "  else:\n",
    "    geo_mean = 0\n",
    "\n",
    "\n",
    "  ## TO_DO: compute the brevity penalty (BP)\n",
    "\n",
    "  # final bleu score\n",
    "  bleu = geo_mean * bp\n",
    "\n",
    "  return (bleu, precisions, bp, ratio, translation_length, reference_length)"
   ]
  },
  {
   "cell_type": "code",
   "execution_count": null,
   "metadata": {
    "id": "iImFSNKr0YSy"
   },
   "outputs": [],
   "source": [
    "# Evaluation\n",
    "def compute_bleu_score(predictions, references, tokenizer=Tokenizer13a(), max_order=4):\n",
    "      # if only one reference is provided make sure we still use list of lists\n",
    "      if isinstance(references[0], str):\n",
    "          references = [[ref] for ref in references]\n",
    "\n",
    "      references = [[tokenizer(r) for r in ref] for ref in references]\n",
    "      predictions = [tokenizer(p) for p in predictions]\n",
    "      score = compute_bleu(\n",
    "          reference_corpus=references, translation_corpus=predictions, max_order=max_order)\n",
    "      (bleu, precisions, bp, ratio, translation_length, reference_length) = score\n",
    "      return {\n",
    "          \"bleu\": bleu,\n",
    "          \"precisions\": precisions,\n",
    "          \"brevity_penalty\": bp,\n",
    "          \"length_ratio\": ratio,\n",
    "          \"translation_length\": translation_length,\n",
    "          \"reference_length\": reference_length,\n",
    "      }"
   ]
  },
  {
   "cell_type": "markdown",
   "metadata": {
    "id": "IT5G7o64ynAJ"
   },
   "source": [
    "A small example for real evaluation, feel free to change the final_predictions funtion to make it more adaptable."
   ]
  },
  {
   "cell_type": "code",
   "execution_count": null,
   "metadata": {
    "colab": {
     "base_uri": "https://localhost:8080/"
    },
    "id": "QjTIcReMw1T1",
    "outputId": "7d9bc113-dfbf-4c11-94a0-ca53b1f60b73"
   },
   "outputs": [
    {
     "data": {
      "text/plain": [
       "{'bleu': 0.6070453859358146,\n",
       " 'precisions': [0.8260869565217391, 0.5625],\n",
       " 'brevity_penalty': 0.8905268465458593,\n",
       " 'length_ratio': 0.8961038961038961,\n",
       " 'translation_length': 69,\n",
       " 'reference_length': 77}"
      ]
     },
     "execution_count": 30,
     "metadata": {},
     "output_type": "execute_result"
    }
   ],
   "source": [
    "references = french_sentences[:5]\n",
    "predictions = [final_predictions(re.sub(r'[^\\w]', ' ', txt)) for txt in english_sentences[:5]]\n",
    "compute_bleu_score(predictions, references, max_order=2)"
   ]
  },
  {
   "cell_type": "code",
   "execution_count": null,
   "metadata": {
    "id": "90ZBSpwXw1WS"
   },
   "outputs": [],
   "source": []
  },
  {
   "cell_type": "markdown",
   "metadata": {
    "id": "7DBwPbx8vt7u"
   },
   "source": [
    "## Exercises:\n",
    "\n",
    "* Please complete the code under **TO_DO**\n",
    "* Complete the evaluation metrics (BLEU) and evaluate the whole dataset.\n",
    "* Train with more epochs. Does it improve the translations?\n",
    "* Change the architectures of the neural network, Does it improve the translations? For example:\n",
    "    * change the number of GRU layers\n",
    "    * change embedding-size\n",
    "    * try Bidirectional-RNN\n",
    "* Please finally submit the notebook with the best architecture settings that you found and comment your results.\n"
   ]
  }
 ],
 "metadata": {
  "accelerator": "GPU",
  "colab": {
   "gpuType": "V100",
   "provenance": []
  },
  "kernelspec": {
   "display_name": "Python 3 (ipykernel)",
   "language": "python",
   "name": "python3"
  },
  "language_info": {
   "codemirror_mode": {
    "name": "ipython",
    "version": 3
   },
   "file_extension": ".py",
   "mimetype": "text/x-python",
   "name": "python",
   "nbconvert_exporter": "python",
   "pygments_lexer": "ipython3",
   "version": "3.11.5"
  }
 },
 "nbformat": 4,
 "nbformat_minor": 4
}
