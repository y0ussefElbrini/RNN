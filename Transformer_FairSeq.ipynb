{
 "cells": [
  {
   "cell_type": "markdown",
   "metadata": {
    "id": "FAQpGrdW8vjw"
   },
   "source": [
    "# **Neural Machine Translation using FairSeq**"
   ]
  },
  {
   "cell_type": "markdown",
   "metadata": {
    "id": "Ry-Ge7_89LSy"
   },
   "source": [
    "The Transformer, introduced in the paper [Attention Is All You Need](https://arxiv.org/abs/1706.03762), is a powerful sequence-to-sequence modeling architecture capable of producing state-of-the-art neural machine translation (NMT) systems."
   ]
  },
  {
   "cell_type": "code",
   "execution_count": null,
   "metadata": {
    "colab": {
     "base_uri": "https://localhost:8080/"
    },
    "id": "rjIsapV_zIeL",
    "outputId": "5eb0c810-7989-48c0-f6d3-3aec6da63f71"
   },
   "outputs": [],
   "source": [
    "!pip install fairseq"
   ]
  },
  {
   "cell_type": "code",
   "execution_count": null,
   "metadata": {
    "colab": {
     "base_uri": "https://localhost:8080/"
    },
    "id": "v-ohK6A80qGk",
    "outputId": "6fc91d44-5bfa-4b8c-8d3a-262501913959"
   },
   "outputs": [],
   "source": [
    "%%bash\n",
    "pip install bitarray fastBPE hydra-core omegaconf regex requests sacremoses subword_nmt"
   ]
  },
  {
   "cell_type": "markdown",
   "metadata": {
    "id": "uWVuUTyP9kDF"
   },
   "source": [
    "To translate from English to French using the model from the paper [Scaling Neural Machine Translation](https://arxiv.org/abs/1806.00187)"
   ]
  },
  {
   "cell_type": "code",
   "execution_count": null,
   "metadata": {
    "colab": {
     "base_uri": "https://localhost:8080/"
    },
    "id": "z1pYQIQz0vzY",
    "outputId": "ff33e770-bb75-4b38-cd92-be1879f3dfed"
   },
   "outputs": [],
   "source": [
    "import torch\n",
    "\n",
    "# Load an En-Fr Transformer model trained on WMT'14 data :\n",
    "en2fr = torch.hub.load('pytorch/fairseq', 'transformer.wmt14.en-fr', tokenizer='moses', bpe='subword_nmt')\n",
    "\n",
    "# Use the GPU (optional):\n",
    "# en2fr.cuda()"
   ]
  },
  {
   "cell_type": "code",
   "execution_count": null,
   "metadata": {
    "colab": {
     "base_uri": "https://localhost:8080/"
    },
    "id": "qE6___nL4Jn2",
    "outputId": "059b3bc2-e260-49c5-935c-30bcf80560c6"
   },
   "outputs": [],
   "source": [
    "# Translate with beam search:\n",
    "fr = en2fr.translate('My name is Mehwish!', beam=5)\n",
    "\n",
    "# Manually tokenize:\n",
    "en_toks = en2fr.tokenize('My name is Mehwish!')\n",
    "\n",
    "# Manually apply BPE:\n",
    "en_bpe = en2fr.apply_bpe(en_toks)\n",
    "\n",
    "# Manually binarize:\n",
    "en_bin = en2fr.binarize(en_bpe)\n",
    "\n",
    "# Generate five translations with top-k sampling:\n",
    "fr_bin = en2fr.generate(en_bin, beam=5, sampling=True, sampling_topk=20)\n",
    "\n",
    "# Convert one of the samples to a string and detokenize\n",
    "fr_sample = fr_bin[0]['tokens']\n",
    "fr_bpe = en2fr.string(fr_sample)\n",
    "fr_toks = en2fr.remove_bpe(fr_bpe)\n",
    "fr = en2fr.detokenize(fr_toks)\n",
    "print(fr)\n"
   ]
  },
  {
   "cell_type": "markdown",
   "metadata": {
    "id": "bocTpHoIFCgE"
   },
   "source": [
    "## Exercises"
   ]
  },
  {
   "cell_type": "code",
   "execution_count": null,
   "metadata": {
    "id": "eDy4pjRY8BR6"
   },
   "outputs": [],
   "source": [
    "# Your turn\n",
    "#Task 1: Load the dataset"
   ]
  },
  {
   "cell_type": "code",
   "execution_count": null,
   "metadata": {
    "id": "VwpsYf2y8KHf"
   },
   "outputs": [],
   "source": [
    "#Task 2: Perform NMT - use this pre-trained model"
   ]
  },
  {
   "cell_type": "code",
   "execution_count": null,
   "metadata": {
    "id": "zzO-3-hB8Vuf"
   },
   "outputs": [],
   "source": [
    "#Task 3: Define the evaluation metrics (BLEU) and evaluate\n",
    "#You can copy the code you write from RNN_Machine_Translation.ipynb"
   ]
  }
 ],
 "metadata": {
  "colab": {
   "provenance": []
  },
  "kernelspec": {
   "display_name": "Python 3 (ipykernel)",
   "language": "python",
   "name": "python3"
  },
  "language_info": {
   "codemirror_mode": {
    "name": "ipython",
    "version": 3
   },
   "file_extension": ".py",
   "mimetype": "text/x-python",
   "name": "python",
   "nbconvert_exporter": "python",
   "pygments_lexer": "ipython3",
   "version": "3.11.5"
  }
 },
 "nbformat": 4,
 "nbformat_minor": 4
}
